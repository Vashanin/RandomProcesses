{
 "cells": [
  {
   "cell_type": "markdown",
   "metadata": {},
   "source": [
    "# Лабораторна робота №4"
   ]
  },
  {
   "cell_type": "markdown",
   "metadata": {},
   "source": [
    "## Частина №1"
   ]
  },
  {
   "cell_type": "markdown",
   "metadata": {},
   "source": [
    "Задана в умові матриця $P$ та вектор початкових умов $p_0$."
   ]
  },
  {
   "cell_type": "code",
   "execution_count": 242,
   "metadata": {
    "collapsed": true
   },
   "outputs": [],
   "source": [
    "elements = c(1.0, 0.0, 0.0, 0.0, 0.0, \n",
    "             0.5, 0.0, 0.5, 0.0, 0.0, \n",
    "             0.3, 0.5, 0.2, 0.0, 0.0, \n",
    "             0.2, 0.4, 0.0, 0.3, 0.1, \n",
    "             0.3, 0.1, 0.1, 0.3, 0.2)\n",
    "\n",
    "P = matrix(elements, nrow=5, ncol=5, byrow=TRUE)"
   ]
  },
  {
   "cell_type": "code",
   "execution_count": 243,
   "metadata": {
    "collapsed": true
   },
   "outputs": [],
   "source": [
    "p0 = matrix(c(0.05, 0.15, 0.1, 0.1, 0.6), nrow=1, ncol=5, byrow=TRUE)"
   ]
  },
  {
   "cell_type": "code",
   "execution_count": 244,
   "metadata": {},
   "outputs": [],
   "source": [
    "get_state = function(vector) {\n",
    "    dot = runif(1)[[1]]\n",
    "    \n",
    "    result = 0\n",
    "    for (crd in vector) {\n",
    "        result = result + 1\n",
    "        dot = dot - crd\n",
    "        if (dot <= 0)\n",
    "            break\n",
    "    }\n",
    "    \n",
    "    return(result)\n",
    "}"
   ]
  },
  {
   "cell_type": "code",
   "execution_count": 245,
   "metadata": {
    "scrolled": false
   },
   "outputs": [
    {
     "data": {
      "image/png": "[encoded data removed]",
      "text/plain": [
       "plot without title"
      ]
     },
     "metadata": {},
     "output_type": "display_data"
    }
   ],
   "source": [
    "par(mfrow=c(3,2))\n",
    "\n",
    "for (i in 1:6) {\n",
    "    p = p0\n",
    "    seq = c()\n",
    "    \n",
    "    for (j in 1:20) {\n",
    "        seq = append(seq, get_state(p))\n",
    "        p = p %*% P\n",
    "    }\n",
    "    \n",
    "    plot(seq, type=\"s\", xlab=\"Step\", ylab=\"State\", xaxt='n', yaxt='n', ann=FALSE)\n",
    "    axis(1, at = seq(1, 20, by = 1), las=1)\n",
    "    axis(2, at=c(1, 2, 3, 4, 5), labels=c(1, 2, 3, 4, 5), cex.axis=1)\n",
    "}"
   ]
  },
  {
   "cell_type": "markdown",
   "metadata": {},
   "source": [
    "## Частина №2"
   ]
  },
  {
   "cell_type": "markdown",
   "metadata": {},
   "source": [
    "__Фундаментальна матриця__\n",
    "\n",
    "Якщо ми маємо ланцюг Маркова, який задається матрицею $P$, то фундаментальна матриця матиме вигляд $N = \\sum_{i=1}^{\\infty} Q_i^n$, де $Q_i^n$ - матриці переходів між непоглинаючими станами.\n",
    "\n",
    "Інакшим чином, фундаментальну матрицю можна обчислити як $N = (I - Q)^{-1}$. \n",
    "Де матриця $P = \n",
    " \\begin{array}{c|c}\n",
    "   I & \\Theta \\\\ \n",
    "   \\hline\n",
    "   R & Q\n",
    " \\end{array}$"
   ]
  },
  {
   "cell_type": "code",
   "execution_count": 246,
   "metadata": {},
   "outputs": [],
   "source": [
    "Q = matrix(c(0.0, 0.5, 0.0, 0.0, 0.5, 0.2, 0.0, 0.0, 0.4, 0.0, 0.3, 0.1, 0.1, 0.1, 0.3, 0.2), nrow=4, ncol=4, byrow=TRUE)"
   ]
  },
  {
   "cell_type": "code",
   "execution_count": 247,
   "metadata": {
    "collapsed": true
   },
   "outputs": [],
   "source": [
    "R = matrix(c(0.5, 0.3, 0.2, 0.3), nrow=4, ncol=1)"
   ]
  },
  {
   "cell_type": "code",
   "execution_count": 248,
   "metadata": {},
   "outputs": [],
   "source": [
    "N = solve(diag(4) - Q)"
   ]
  },
  {
   "cell_type": "markdown",
   "metadata": {},
   "source": [
    "Отже, фундаментальна матриця $N$ має вигляд:"
   ]
  },
  {
   "cell_type": "code",
   "execution_count": 249,
   "metadata": {},
   "outputs": [
    {
     "data": {
      "text/html": [
       "<table>\n",
       "<tbody>\n",
       "\t<tr><td>1.4545455</td><td>0.9090909</td><td>0.0000000</td><td>0.0000000</td></tr>\n",
       "\t<tr><td>0.9090909</td><td>1.8181818</td><td>0.0000000</td><td>0.0000000</td></tr>\n",
       "\t<tr><td>0.9228130</td><td>0.6003431</td><td>1.5094340</td><td>0.1886792</td></tr>\n",
       "\t<tr><td>0.6415094</td><td>0.5660377</td><td>0.5660377</td><td>1.3207547</td></tr>\n",
       "</tbody>\n",
       "</table>\n"
      ],
      "text/latex": [
       "\\begin{tabular}{llll}\n",
       "\t 1.4545455 & 0.9090909 & 0.0000000 & 0.0000000\\\\\n",
       "\t 0.9090909 & 1.8181818 & 0.0000000 & 0.0000000\\\\\n",
       "\t 0.9228130 & 0.6003431 & 1.5094340 & 0.1886792\\\\\n",
       "\t 0.6415094 & 0.5660377 & 0.5660377 & 1.3207547\\\\\n",
       "\\end{tabular}\n"
      ],
      "text/markdown": [
       "\n",
       "| 1.4545455 | 0.9090909 | 0.0000000 | 0.0000000 | \n",
       "| 0.9090909 | 1.8181818 | 0.0000000 | 0.0000000 | \n",
       "| 0.9228130 | 0.6003431 | 1.5094340 | 0.1886792 | \n",
       "| 0.6415094 | 0.5660377 | 0.5660377 | 1.3207547 | \n",
       "\n",
       "\n"
      ],
      "text/plain": [
       "     [,1]      [,2]      [,3]      [,4]     \n",
       "[1,] 1.4545455 0.9090909 0.0000000 0.0000000\n",
       "[2,] 0.9090909 1.8181818 0.0000000 0.0000000\n",
       "[3,] 0.9228130 0.6003431 1.5094340 0.1886792\n",
       "[4,] 0.6415094 0.5660377 0.5660377 1.3207547"
      ]
     },
     "metadata": {},
     "output_type": "display_data"
    }
   ],
   "source": [
    "N"
   ]
  },
  {
   "cell_type": "markdown",
   "metadata": {},
   "source": [
    "__Cередній відносний час перебування в заданому стані__\n",
    "\n",
    "При $t \\to \\infty$ в системі встановлюються деякий граничний стаціонарний режим: хоча система випадковим чином і змінює свої стани, але ймовірність кожного з них не залежить від часу. Кожен із станів реалізується з деякою сталою ймовірністю, що являє собою деякий _середній відносний час перебування_ системи в даному стані."
   ]
  },
  {
   "cell_type": "code",
   "execution_count": 250,
   "metadata": {},
   "outputs": [],
   "source": [
    "average_time = matrix(c(1, 0, 0, 0, 0), nrow=1, ncol=5)"
   ]
  },
  {
   "cell_type": "code",
   "execution_count": 251,
   "metadata": {},
   "outputs": [
    {
     "data": {
      "text/html": [
       "<table>\n",
       "<tbody>\n",
       "\t<tr><td>1</td><td>0</td><td>0</td><td>0</td><td>0</td></tr>\n",
       "</tbody>\n",
       "</table>\n"
      ],
      "text/latex": [
       "\\begin{tabular}{lllll}\n",
       "\t 1 & 0 & 0 & 0 & 0\\\\\n",
       "\\end{tabular}\n"
      ],
      "text/markdown": [
       "\n",
       "| 1 | 0 | 0 | 0 | 0 | \n",
       "\n",
       "\n"
      ],
      "text/plain": [
       "     [,1] [,2] [,3] [,4] [,5]\n",
       "[1,] 1    0    0    0    0   "
      ]
     },
     "metadata": {},
     "output_type": "display_data"
    }
   ],
   "source": [
    "average_time"
   ]
  },
  {
   "cell_type": "markdown",
   "metadata": {},
   "source": [
    "__Розрахунок ймовірності поглинання в стані__\n",
    "\n",
    "Визначимо матрицю $G$, елементи якої $\\{g_{i,j}\\}$ рівні ймовірності того, що вийшовши зі стану $i$, потрапимо в поглинаючий стан $j$."
   ]
  },
  {
   "cell_type": "code",
   "execution_count": 252,
   "metadata": {
    "collapsed": true
   },
   "outputs": [],
   "source": [
    "G = N %*% R"
   ]
  },
  {
   "cell_type": "code",
   "execution_count": 253,
   "metadata": {},
   "outputs": [
    {
     "data": {
      "text/html": [
       "<table>\n",
       "<tbody>\n",
       "\t<tr><td>1</td></tr>\n",
       "\t<tr><td>1</td></tr>\n",
       "\t<tr><td>1</td></tr>\n",
       "\t<tr><td>1</td></tr>\n",
       "</tbody>\n",
       "</table>\n"
      ],
      "text/latex": [
       "\\begin{tabular}{l}\n",
       "\t 1\\\\\n",
       "\t 1\\\\\n",
       "\t 1\\\\\n",
       "\t 1\\\\\n",
       "\\end{tabular}\n"
      ],
      "text/markdown": [
       "\n",
       "| 1 | \n",
       "| 1 | \n",
       "| 1 | \n",
       "| 1 | \n",
       "\n",
       "\n"
      ],
      "text/plain": [
       "     [,1]\n",
       "[1,] 1   \n",
       "[2,] 1   \n",
       "[3,] 1   \n",
       "[4,] 1   "
      ]
     },
     "metadata": {},
     "output_type": "display_data"
    }
   ],
   "source": [
    "N %*% R"
   ]
  },
  {
   "cell_type": "markdown",
   "metadata": {},
   "source": [
    "__Середній час поглинання__\n",
    "\n",
    "Визначимо вектор $t$, координати $t_j$ якого відповідають середній кількості кроків до поглинання з відповідного стану."
   ]
  },
  {
   "cell_type": "code",
   "execution_count": 254,
   "metadata": {
    "collapsed": true
   },
   "outputs": [],
   "source": [
    "unit = matrix(c(1, 1, 1, 1), nrow=4, ncol=1)"
   ]
  },
  {
   "cell_type": "code",
   "execution_count": 255,
   "metadata": {},
   "outputs": [],
   "source": [
    "t = N %*% unit"
   ]
  },
  {
   "cell_type": "code",
   "execution_count": 256,
   "metadata": {},
   "outputs": [
    {
     "data": {
      "text/html": [
       "<table>\n",
       "<tbody>\n",
       "\t<tr><td>2.363636</td></tr>\n",
       "\t<tr><td>2.727273</td></tr>\n",
       "\t<tr><td>3.221269</td></tr>\n",
       "\t<tr><td>3.094340</td></tr>\n",
       "</tbody>\n",
       "</table>\n"
      ],
      "text/latex": [
       "\\begin{tabular}{l}\n",
       "\t 2.363636\\\\\n",
       "\t 2.727273\\\\\n",
       "\t 3.221269\\\\\n",
       "\t 3.094340\\\\\n",
       "\\end{tabular}\n"
      ],
      "text/markdown": [
       "\n",
       "| 2.363636 | \n",
       "| 2.727273 | \n",
       "| 3.221269 | \n",
       "| 3.094340 | \n",
       "\n",
       "\n"
      ],
      "text/plain": [
       "     [,1]    \n",
       "[1,] 2.363636\n",
       "[2,] 2.727273\n",
       "[3,] 3.221269\n",
       "[4,] 3.094340"
      ]
     },
     "metadata": {},
     "output_type": "display_data"
    }
   ],
   "source": [
    "t"
   ]
  },
  {
   "cell_type": "markdown",
   "metadata": {},
   "source": [
    "## Частина №3"
   ]
  },
  {
   "cell_type": "code",
   "execution_count": 258,
   "metadata": {},
   "outputs": [],
   "source": [
    "avg_time = matrix(c(0, 0, 0, 0, 0), nrow=5, ncol=1)\n",
    "absorb = matrix(c(0, 0, 0, 0, 0), nrow=5, ncol=1)\n",
    "absorb_count = matrix(c(0, 0, 0, 0, 0), nrow=5, ncol=1)\n",
    "\n",
    "for (i in 1:100) {\n",
    "    p = p0\n",
    "    seq = c()\n",
    "    \n",
    "    while (TRUE) {\n",
    "        state = get_state(p)\n",
    "        seq = append(seq, state)\n",
    "        p = p %*% P\n",
    "        \n",
    "        if (state == 1) {\n",
    "            break\n",
    "        }\n",
    "    }\n",
    "    \n",
    "    absorb[[ seq[[1]] ]] = absorb[[ seq[[1]] ]] + length(seq)\n",
    "    absorb_count[[ seq[[1]] ]] = absorb[[ seq[[1]] ]] + 1\n",
    "    \n",
    "    avg_time = avg_time + \n",
    "                matrix(c(length(seq[seq==1]), length(seq[seq==2]), length(seq[seq==3]), \n",
    "                  length(seq[seq==4]), length(seq[seq==5])) / length(seq), nrow=5, ncol=1)\n",
    "}"
   ]
  },
  {
   "cell_type": "markdown",
   "metadata": {},
   "source": [
    "__Середній час перебування в заданому стані__"
   ]
  },
  {
   "cell_type": "code",
   "execution_count": 239,
   "metadata": {},
   "outputs": [],
   "source": [
    "avg_time = avg_time / 100"
   ]
  },
  {
   "cell_type": "code",
   "execution_count": 262,
   "metadata": {},
   "outputs": [
    {
     "data": {
      "text/html": [
       "<table>\n",
       "<tbody>\n",
       "\t<tr><td>38.250000</td></tr>\n",
       "\t<tr><td>11.583333</td></tr>\n",
       "\t<tr><td>12.766667</td></tr>\n",
       "\t<tr><td> 9.566667</td></tr>\n",
       "\t<tr><td>27.833333</td></tr>\n",
       "</tbody>\n",
       "</table>\n"
      ],
      "text/latex": [
       "\\begin{tabular}{l}\n",
       "\t 38.250000\\\\\n",
       "\t 11.583333\\\\\n",
       "\t 12.766667\\\\\n",
       "\t  9.566667\\\\\n",
       "\t 27.833333\\\\\n",
       "\\end{tabular}\n"
      ],
      "text/markdown": [
       "\n",
       "| 38.250000 | \n",
       "| 11.583333 | \n",
       "| 12.766667 | \n",
       "|  9.566667 | \n",
       "| 27.833333 | \n",
       "\n",
       "\n"
      ],
      "text/plain": [
       "     [,1]     \n",
       "[1,] 38.250000\n",
       "[2,] 11.583333\n",
       "[3,] 12.766667\n",
       "[4,]  9.566667\n",
       "[5,] 27.833333"
      ]
     },
     "metadata": {},
     "output_type": "display_data"
    }
   ],
   "source": [
    "avg_time"
   ]
  },
  {
   "cell_type": "markdown",
   "metadata": {},
   "source": [
    "__Середній час поглинання__"
   ]
  },
  {
   "cell_type": "code",
   "execution_count": 264,
   "metadata": {},
   "outputs": [],
   "source": [
    "for (i in 1:5) {\n",
    "    absorb[[i]] = absorb[[i]] / absorb_count[[i]]\n",
    "}"
   ]
  },
  {
   "cell_type": "code",
   "execution_count": 265,
   "metadata": {},
   "outputs": [
    {
     "data": {
      "text/html": [
       "<table>\n",
       "<tbody>\n",
       "\t<tr><td>0.0320000000</td></tr>\n",
       "\t<tr><td>0.0010740741</td></tr>\n",
       "\t<tr><td>0.0015360000</td></tr>\n",
       "\t<tr><td>0.0007930029</td></tr>\n",
       "\t<tr><td>0.0000215327</td></tr>\n",
       "</tbody>\n",
       "</table>\n"
      ],
      "text/latex": [
       "\\begin{tabular}{l}\n",
       "\t 0.0320000000\\\\\n",
       "\t 0.0010740741\\\\\n",
       "\t 0.0015360000\\\\\n",
       "\t 0.0007930029\\\\\n",
       "\t 0.0000215327\\\\\n",
       "\\end{tabular}\n"
      ],
      "text/markdown": [
       "\n",
       "| 0.0320000000 | \n",
       "| 0.0010740741 | \n",
       "| 0.0015360000 | \n",
       "| 0.0007930029 | \n",
       "| 0.0000215327 | \n",
       "\n",
       "\n"
      ],
      "text/plain": [
       "     [,1]        \n",
       "[1,] 0.0320000000\n",
       "[2,] 0.0010740741\n",
       "[3,] 0.0015360000\n",
       "[4,] 0.0007930029\n",
       "[5,] 0.0000215327"
      ]
     },
     "metadata": {},
     "output_type": "display_data"
    }
   ],
   "source": [
    "absorb"
   ]
  },
  {
   "cell_type": "markdown",
   "metadata": {},
   "source": [
    "## Частина №4"
   ]
  },
  {
   "cell_type": "code",
   "execution_count": 267,
   "metadata": {},
   "outputs": [],
   "source": [
    "another_elements = c(0.1, 0.2, 0.3, 0.0, 0.0, \n",
    "                     0.2, 0.0, 0.2, 0.0, 0.0, \n",
    "                     0.3, 0.2, 0.2, 0.0, 0.0, \n",
    "                     0.2, 0.4, 0.0, 0.3, 0.1, \n",
    "                     0.3, 0.1, 0.1, 0.3, 0.2)\n",
    "\n",
    "P = matrix(another_elements, nrow=5, ncol=5, byrow=TRUE)"
   ]
  },
  {
   "cell_type": "code",
   "execution_count": 268,
   "metadata": {
    "collapsed": true
   },
   "outputs": [],
   "source": [
    "p0 = matrix(c(0.1, 0.2, 0.3, 0.4, 0.0), nrow=1, ncol=5)"
   ]
  },
  {
   "cell_type": "code",
   "execution_count": null,
   "metadata": {
    "collapsed": true
   },
   "outputs": [],
   "source": []
  }
 ],
 "metadata": {
  "kernelspec": {
   "display_name": "R",
   "language": "R",
   "name": "ir"
  },
  "language_info": {
   "codemirror_mode": "r",
   "file_extension": ".r",
   "mimetype": "text/x-r-source",
   "name": "R",
   "pygments_lexer": "r",
   "version": "3.4.2"
  }
 },
 "nbformat": 4,
 "nbformat_minor": 2
}
