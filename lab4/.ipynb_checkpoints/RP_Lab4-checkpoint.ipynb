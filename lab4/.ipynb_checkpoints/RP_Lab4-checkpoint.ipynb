{
 "cells": [
  {
   "cell_type": "markdown",
   "metadata": {},
   "source": [
    "# Лабораторна робота №4"
   ]
  },
  {
   "cell_type": "markdown",
   "metadata": {},
   "source": [
    "## Частина №1"
   ]
  },
  {
   "cell_type": "markdown",
   "metadata": {},
   "source": [
    "Задана в умові матриця $P$ та вектор початкових умов $p_0$."
   ]
  },
  {
   "cell_type": "code",
   "execution_count": 2,
   "metadata": {
    "collapsed": true
   },
   "outputs": [],
   "source": [
    "elements = c(1.0, 0.0, 0.0, 0.0, 0.0, \n",
    "             0.5, 0.0, 0.5, 0.0, 0.0, \n",
    "             0.3, 0.5, 0.2, 0.0, 0.0, \n",
    "             0.2, 0.4, 0.0, 0.3, 0.1, \n",
    "             0.3, 0.1, 0.1, 0.3, 0.2)\n",
    "\n",
    "P = matrix(elements, nrow=5, ncol=5, byrow=TRUE)"
   ]
  },
  {
   "cell_type": "code",
   "execution_count": 3,
   "metadata": {
    "collapsed": true
   },
   "outputs": [],
   "source": [
    "p0 = matrix(c(0.05, 0.15, 0.1, 0.1, 0.6), nrow=1, ncol=5, byrow=TRUE)"
   ]
  },
  {
   "cell_type": "code",
   "execution_count": 4,
   "metadata": {
    "collapsed": true
   },
   "outputs": [],
   "source": [
    "get_state = function(vector) {\n",
    "    dot = runif(1)[[1]]\n",
    "    \n",
    "    result = 0\n",
    "    for (crd in vector) {\n",
    "        result = result + 1\n",
    "        dot = dot - crd\n",
    "        if (dot <= 0)\n",
    "            break\n",
    "    }\n",
    "    \n",
    "    return(result)\n",
    "}"
   ]
  },
  {
   "cell_type": "code",
   "execution_count": 5,
   "metadata": {
    "scrolled": false
   },
   "outputs": [
    {
     "data": {
      "image/png": "[encoded data removed]",
      "text/plain": [
       "plot without title"
      ]
     },
     "metadata": {},
     "output_type": "display_data"
    }
   ],
   "source": [
    "par(mfrow=c(3,2))\n",
    "\n",
    "for (i in 1:6) {\n",
    "    p = p0\n",
    "    seq = c()\n",
    "    \n",
    "    for (j in 1:20) {\n",
    "        seq = append(seq, get_state(p))\n",
    "        p = p %*% P\n",
    "    }\n",
    "    \n",
    "    plot(seq, type=\"s\", xlab=\"Step\", ylab=\"State\", xaxt='n', yaxt='n', ann=FALSE)\n",
    "    axis(1, at = seq(1, 20, by = 1), las=1)\n",
    "    axis(2, at=c(1, 2, 3, 4, 5), labels=c(1, 2, 3, 4, 5), cex.axis=1)\n",
    "}"
   ]
  },
  {
   "cell_type": "markdown",
   "metadata": {},
   "source": [
    "## Частина №2"
   ]
  },
  {
   "cell_type": "markdown",
   "metadata": {},
   "source": [
    "__Фундаментальна матриця__\n",
    "\n",
    "Якщо ми маємо ланцюг Маркова, який задається матрицею $P$, то фундаментальна матриця матиме вигляд $N = \\sum_{i=1}^{\\infty} Q_i^n$, де $Q_i^n$ - матриці переходів між непоглинаючими станами.\n",
    "\n",
    "Інакшим чином, фундаментальну матрицю можна обчислити як $N = (I - Q)^{-1}$. \n",
    "Де матриця $P = \n",
    " \\begin{array}{c|c}\n",
    "   I & \\Theta \\\\ \n",
    "   \\hline\n",
    "   R & Q\n",
    " \\end{array}$"
   ]
  },
  {
   "cell_type": "code",
   "execution_count": 6,
   "metadata": {
    "collapsed": true
   },
   "outputs": [],
   "source": [
    "Q = matrix(c(0.0, 0.5, 0.0, 0.0, 0.5, 0.2, 0.0, 0.0, 0.4, 0.0, 0.3, 0.1, 0.1, 0.1, 0.3, 0.2), nrow=4, ncol=4, byrow=TRUE)"
   ]
  },
  {
   "cell_type": "code",
   "execution_count": 7,
   "metadata": {
    "collapsed": true
   },
   "outputs": [],
   "source": [
    "R = matrix(c(0.5, 0.3, 0.2, 0.3), nrow=4, ncol=1)"
   ]
  },
  {
   "cell_type": "code",
   "execution_count": 8,
   "metadata": {
    "collapsed": true
   },
   "outputs": [],
   "source": [
    "N = solve(diag(4) - Q)"
   ]
  },
  {
   "cell_type": "markdown",
   "metadata": {},
   "source": [
    "Отже, фундаментальна матриця $N$ має вигляд:"
   ]
  },
  {
   "cell_type": "code",
   "execution_count": 9,
   "metadata": {},
   "outputs": [
    {
     "data": {
      "text/html": [
       "<table>\n",
       "<tbody>\n",
       "\t<tr><td>1.4545455</td><td>0.9090909</td><td>0.0000000</td><td>0.0000000</td></tr>\n",
       "\t<tr><td>0.9090909</td><td>1.8181818</td><td>0.0000000</td><td>0.0000000</td></tr>\n",
       "\t<tr><td>0.9228130</td><td>0.6003431</td><td>1.5094340</td><td>0.1886792</td></tr>\n",
       "\t<tr><td>0.6415094</td><td>0.5660377</td><td>0.5660377</td><td>1.3207547</td></tr>\n",
       "</tbody>\n",
       "</table>\n"
      ],
      "text/latex": [
       "\\begin{tabular}{llll}\n",
       "\t 1.4545455 & 0.9090909 & 0.0000000 & 0.0000000\\\\\n",
       "\t 0.9090909 & 1.8181818 & 0.0000000 & 0.0000000\\\\\n",
       "\t 0.9228130 & 0.6003431 & 1.5094340 & 0.1886792\\\\\n",
       "\t 0.6415094 & 0.5660377 & 0.5660377 & 1.3207547\\\\\n",
       "\\end{tabular}\n"
      ],
      "text/markdown": [
       "\n",
       "| 1.4545455 | 0.9090909 | 0.0000000 | 0.0000000 | \n",
       "| 0.9090909 | 1.8181818 | 0.0000000 | 0.0000000 | \n",
       "| 0.9228130 | 0.6003431 | 1.5094340 | 0.1886792 | \n",
       "| 0.6415094 | 0.5660377 | 0.5660377 | 1.3207547 | \n",
       "\n",
       "\n"
      ],
      "text/plain": [
       "     [,1]      [,2]      [,3]      [,4]     \n",
       "[1,] 1.4545455 0.9090909 0.0000000 0.0000000\n",
       "[2,] 0.9090909 1.8181818 0.0000000 0.0000000\n",
       "[3,] 0.9228130 0.6003431 1.5094340 0.1886792\n",
       "[4,] 0.6415094 0.5660377 0.5660377 1.3207547"
      ]
     },
     "metadata": {},
     "output_type": "display_data"
    }
   ],
   "source": [
    "N"
   ]
  },
  {
   "cell_type": "markdown",
   "metadata": {},
   "source": [
    "__Cередній відносний час перебування в заданому стані__\n",
    "\n",
    "При $t \\to \\infty$ в системі встановлюються деякий граничний стаціонарний режим: хоча система випадковим чином і змінює свої стани, але ймовірність кожного з них не залежить від часу. Кожен із станів реалізується з деякою сталою ймовірністю, що являє собою деякий _середній відносний час перебування_ системи в даному стані."
   ]
  },
  {
   "cell_type": "code",
   "execution_count": 10,
   "metadata": {
    "collapsed": true
   },
   "outputs": [],
   "source": [
    "pn = matrix(c(0.15, 0.1, 0.1, 0.6), nrow=1, ncol=4, byrow=TRUE)"
   ]
  },
  {
   "cell_type": "code",
   "execution_count": 11,
   "metadata": {},
   "outputs": [
    {
     "data": {
      "text/html": [
       "<table>\n",
       "<tbody>\n",
       "\t<tr><td>0.7862779</td><td>0.7178388</td><td>0.490566 </td><td>0.8113208</td></tr>\n",
       "</tbody>\n",
       "</table>\n"
      ],
      "text/latex": [
       "\\begin{tabular}{llll}\n",
       "\t 0.7862779 & 0.7178388 & 0.490566  & 0.8113208\\\\\n",
       "\\end{tabular}\n"
      ],
      "text/markdown": [
       "\n",
       "| 0.7862779 | 0.7178388 | 0.490566  | 0.8113208 | \n",
       "\n",
       "\n"
      ],
      "text/plain": [
       "     [,1]      [,2]      [,3]     [,4]     \n",
       "[1,] 0.7862779 0.7178388 0.490566 0.8113208"
      ]
     },
     "metadata": {},
     "output_type": "display_data"
    }
   ],
   "source": [
    "pn %*% N"
   ]
  },
  {
   "cell_type": "markdown",
   "metadata": {},
   "source": [
    "__Розрахунок ймовірності поглинання в стані__\n",
    "\n",
    "Визначимо матрицю $G$, елементи якої $\\{g_{i,j}\\}$ рівні ймовірності того, що вийшовши зі стану $i$, потрапимо в поглинаючий стан $j$."
   ]
  },
  {
   "cell_type": "code",
   "execution_count": 12,
   "metadata": {
    "collapsed": true
   },
   "outputs": [],
   "source": [
    "G = N %*% R"
   ]
  },
  {
   "cell_type": "code",
   "execution_count": 13,
   "metadata": {},
   "outputs": [
    {
     "data": {
      "text/html": [
       "<table>\n",
       "<tbody>\n",
       "\t<tr><td>1</td></tr>\n",
       "\t<tr><td>1</td></tr>\n",
       "\t<tr><td>1</td></tr>\n",
       "\t<tr><td>1</td></tr>\n",
       "</tbody>\n",
       "</table>\n"
      ],
      "text/latex": [
       "\\begin{tabular}{l}\n",
       "\t 1\\\\\n",
       "\t 1\\\\\n",
       "\t 1\\\\\n",
       "\t 1\\\\\n",
       "\\end{tabular}\n"
      ],
      "text/markdown": [
       "\n",
       "| 1 | \n",
       "| 1 | \n",
       "| 1 | \n",
       "| 1 | \n",
       "\n",
       "\n"
      ],
      "text/plain": [
       "     [,1]\n",
       "[1,] 1   \n",
       "[2,] 1   \n",
       "[3,] 1   \n",
       "[4,] 1   "
      ]
     },
     "metadata": {},
     "output_type": "display_data"
    }
   ],
   "source": [
    "N %*% R"
   ]
  },
  {
   "cell_type": "markdown",
   "metadata": {},
   "source": [
    "__Середній час поглинання__\n",
    "\n",
    "Визначимо вектор $t$, координати $t_j$ якого відповідають середній кількості кроків до поглинання з відповідного стану."
   ]
  },
  {
   "cell_type": "code",
   "execution_count": 14,
   "metadata": {
    "collapsed": true
   },
   "outputs": [],
   "source": [
    "unit = matrix(c(1, 1, 1, 1), nrow=4, ncol=1)"
   ]
  },
  {
   "cell_type": "code",
   "execution_count": 15,
   "metadata": {
    "collapsed": true
   },
   "outputs": [],
   "source": [
    "t = N %*% unit"
   ]
  },
  {
   "cell_type": "code",
   "execution_count": 16,
   "metadata": {},
   "outputs": [
    {
     "data": {
      "text/html": [
       "<table>\n",
       "<tbody>\n",
       "\t<tr><td>2.363636</td></tr>\n",
       "\t<tr><td>2.727273</td></tr>\n",
       "\t<tr><td>3.221269</td></tr>\n",
       "\t<tr><td>3.094340</td></tr>\n",
       "</tbody>\n",
       "</table>\n"
      ],
      "text/latex": [
       "\\begin{tabular}{l}\n",
       "\t 2.363636\\\\\n",
       "\t 2.727273\\\\\n",
       "\t 3.221269\\\\\n",
       "\t 3.094340\\\\\n",
       "\\end{tabular}\n"
      ],
      "text/markdown": [
       "\n",
       "| 2.363636 | \n",
       "| 2.727273 | \n",
       "| 3.221269 | \n",
       "| 3.094340 | \n",
       "\n",
       "\n"
      ],
      "text/plain": [
       "     [,1]    \n",
       "[1,] 2.363636\n",
       "[2,] 2.727273\n",
       "[3,] 3.221269\n",
       "[4,] 3.094340"
      ]
     },
     "metadata": {},
     "output_type": "display_data"
    }
   ],
   "source": [
    "t"
   ]
  },
  {
   "cell_type": "markdown",
   "metadata": {},
   "source": [
    "## Частина №3"
   ]
  },
  {
   "cell_type": "code",
   "execution_count": 17,
   "metadata": {
    "collapsed": true
   },
   "outputs": [],
   "source": [
    "avg_time = matrix(c(0, 0, 0, 0, 0), nrow=5, ncol=1)\n",
    "absorb = matrix(c(0, 0, 0, 0, 0), nrow=5, ncol=1)\n",
    "absorb_count = matrix(c(0, 0, 0, 0, 0), nrow=5, ncol=1)\n",
    "\n",
    "for (i in 1:100) {\n",
    "    p = p0\n",
    "    seq = c()\n",
    "    \n",
    "    while (TRUE) {\n",
    "        state = get_state(p)\n",
    "        seq = append(seq, state)\n",
    "        p = p %*% P\n",
    "        \n",
    "        if (state == 1) {\n",
    "            break\n",
    "        }\n",
    "    }\n",
    "    \n",
    "    absorb[[ seq[[1]] ]] = absorb[[ seq[[1]] ]] + length(seq)\n",
    "    absorb_count[[ seq[[1]] ]] = absorb[[ seq[[1]] ]] + 1\n",
    "    \n",
    "    avg_time = avg_time + \n",
    "                matrix(c(length(seq[seq==1]), length(seq[seq==2]), length(seq[seq==3]), \n",
    "                  length(seq[seq==4]), length(seq[seq==5])) / length(seq), nrow=5, ncol=1)\n",
    "}"
   ]
  },
  {
   "cell_type": "markdown",
   "metadata": {},
   "source": [
    "__Середній час перебування в заданому стані__"
   ]
  },
  {
   "cell_type": "code",
   "execution_count": 18,
   "metadata": {
    "collapsed": true
   },
   "outputs": [],
   "source": [
    "avg_time = avg_time / 100"
   ]
  },
  {
   "cell_type": "code",
   "execution_count": 19,
   "metadata": {},
   "outputs": [
    {
     "data": {
      "text/html": [
       "<table>\n",
       "<tbody>\n",
       "\t<tr><td>0.3705000</td></tr>\n",
       "\t<tr><td>0.1700000</td></tr>\n",
       "\t<tr><td>0.0910000</td></tr>\n",
       "\t<tr><td>0.1126667</td></tr>\n",
       "\t<tr><td>0.2558333</td></tr>\n",
       "</tbody>\n",
       "</table>\n"
      ],
      "text/latex": [
       "\\begin{tabular}{l}\n",
       "\t 0.3705000\\\\\n",
       "\t 0.1700000\\\\\n",
       "\t 0.0910000\\\\\n",
       "\t 0.1126667\\\\\n",
       "\t 0.2558333\\\\\n",
       "\\end{tabular}\n"
      ],
      "text/markdown": [
       "\n",
       "| 0.3705000 | \n",
       "| 0.1700000 | \n",
       "| 0.0910000 | \n",
       "| 0.1126667 | \n",
       "| 0.2558333 | \n",
       "\n",
       "\n"
      ],
      "text/plain": [
       "     [,1]     \n",
       "[1,] 0.3705000\n",
       "[2,] 0.1700000\n",
       "[3,] 0.0910000\n",
       "[4,] 0.1126667\n",
       "[5,] 0.2558333"
      ]
     },
     "metadata": {},
     "output_type": "display_data"
    }
   ],
   "source": [
    "avg_time"
   ]
  },
  {
   "cell_type": "markdown",
   "metadata": {},
   "source": [
    "__Середній час поглинання__"
   ]
  },
  {
   "cell_type": "code",
   "execution_count": 20,
   "metadata": {
    "collapsed": true
   },
   "outputs": [],
   "source": [
    "for (i in 1:5) {\n",
    "    absorb[[i]] = absorb[[i]] / absorb_count[[i]]\n",
    "}"
   ]
  },
  {
   "cell_type": "code",
   "execution_count": 21,
   "metadata": {},
   "outputs": [
    {
     "data": {
      "text/html": [
       "<table>\n",
       "<tbody>\n",
       "\t<tr><td>0.7500000</td></tr>\n",
       "\t<tr><td>0.9864865</td></tr>\n",
       "\t<tr><td>0.9565217</td></tr>\n",
       "\t<tr><td>0.9736842</td></tr>\n",
       "\t<tr><td>0.9943182</td></tr>\n",
       "</tbody>\n",
       "</table>\n"
      ],
      "text/latex": [
       "\\begin{tabular}{l}\n",
       "\t 0.7500000\\\\\n",
       "\t 0.9864865\\\\\n",
       "\t 0.9565217\\\\\n",
       "\t 0.9736842\\\\\n",
       "\t 0.9943182\\\\\n",
       "\\end{tabular}\n"
      ],
      "text/markdown": [
       "\n",
       "| 0.7500000 | \n",
       "| 0.9864865 | \n",
       "| 0.9565217 | \n",
       "| 0.9736842 | \n",
       "| 0.9943182 | \n",
       "\n",
       "\n"
      ],
      "text/plain": [
       "     [,1]     \n",
       "[1,] 0.7500000\n",
       "[2,] 0.9864865\n",
       "[3,] 0.9565217\n",
       "[4,] 0.9736842\n",
       "[5,] 0.9943182"
      ]
     },
     "metadata": {},
     "output_type": "display_data"
    }
   ],
   "source": [
    "absorb"
   ]
  },
  {
   "cell_type": "markdown",
   "metadata": {},
   "source": [
    "## Частина №4"
   ]
  },
  {
   "cell_type": "code",
   "execution_count": 22,
   "metadata": {
    "collapsed": true
   },
   "outputs": [],
   "source": [
    "another_elements = c(0.1, 0.2, 0.3, 0.4, 0.0, \n",
    "                     0.2, 0.0, 0.2, 0.6, 0.0, \n",
    "                     0.3, 0.2, 0.2, 0.3, 0.0, \n",
    "                     0.2, 0.4, 0.0, 0.3, 0.1, \n",
    "                     0.3, 0.1, 0.1, 0.3, 0.2)\n",
    "\n",
    "P = matrix(another_elements, nrow=5, ncol=5, byrow=TRUE)"
   ]
  },
  {
   "cell_type": "code",
   "execution_count": 23,
   "metadata": {
    "collapsed": true
   },
   "outputs": [],
   "source": [
    "p0 = matrix(c(0.1, 0.2, 0.3, 0.4, 0.0), nrow=1, ncol=5)"
   ]
  },
  {
   "cell_type": "markdown",
   "metadata": {
    "collapsed": true
   },
   "source": [
    "__Матриця фінальних ймовірностей__ - це така матриця $А$, що $$\\lim_{n \\to \\infty} P_n = A$$\n",
    "Тобто, дана матриця задає стан системи при дуже великій кількості ітерацій."
   ]
  },
  {
   "cell_type": "code",
   "execution_count": 24,
   "metadata": {
    "collapsed": true
   },
   "outputs": [],
   "source": [
    "A = P\n",
    "for (i in 1:1000) {\n",
    "    A = A %*% P\n",
    "}"
   ]
  },
  {
   "cell_type": "code",
   "execution_count": 25,
   "metadata": {},
   "outputs": [
    {
     "data": {
      "text/html": [
       "<table>\n",
       "<tbody>\n",
       "\t<tr><td>0.1987197</td><td>0.2273014</td><td>0.1374087</td><td>0.3880624</td><td>0.0485078</td></tr>\n",
       "\t<tr><td>0.1987197</td><td>0.2273014</td><td>0.1374087</td><td>0.3880624</td><td>0.0485078</td></tr>\n",
       "\t<tr><td>0.1987197</td><td>0.2273014</td><td>0.1374087</td><td>0.3880624</td><td>0.0485078</td></tr>\n",
       "\t<tr><td>0.1987197</td><td>0.2273014</td><td>0.1374087</td><td>0.3880624</td><td>0.0485078</td></tr>\n",
       "\t<tr><td>0.1987197</td><td>0.2273014</td><td>0.1374087</td><td>0.3880624</td><td>0.0485078</td></tr>\n",
       "</tbody>\n",
       "</table>\n"
      ],
      "text/latex": [
       "\\begin{tabular}{lllll}\n",
       "\t 0.1987197 & 0.2273014 & 0.1374087 & 0.3880624 & 0.0485078\\\\\n",
       "\t 0.1987197 & 0.2273014 & 0.1374087 & 0.3880624 & 0.0485078\\\\\n",
       "\t 0.1987197 & 0.2273014 & 0.1374087 & 0.3880624 & 0.0485078\\\\\n",
       "\t 0.1987197 & 0.2273014 & 0.1374087 & 0.3880624 & 0.0485078\\\\\n",
       "\t 0.1987197 & 0.2273014 & 0.1374087 & 0.3880624 & 0.0485078\\\\\n",
       "\\end{tabular}\n"
      ],
      "text/markdown": [
       "\n",
       "| 0.1987197 | 0.2273014 | 0.1374087 | 0.3880624 | 0.0485078 | \n",
       "| 0.1987197 | 0.2273014 | 0.1374087 | 0.3880624 | 0.0485078 | \n",
       "| 0.1987197 | 0.2273014 | 0.1374087 | 0.3880624 | 0.0485078 | \n",
       "| 0.1987197 | 0.2273014 | 0.1374087 | 0.3880624 | 0.0485078 | \n",
       "| 0.1987197 | 0.2273014 | 0.1374087 | 0.3880624 | 0.0485078 | \n",
       "\n",
       "\n"
      ],
      "text/plain": [
       "     [,1]      [,2]      [,3]      [,4]      [,5]     \n",
       "[1,] 0.1987197 0.2273014 0.1374087 0.3880624 0.0485078\n",
       "[2,] 0.1987197 0.2273014 0.1374087 0.3880624 0.0485078\n",
       "[3,] 0.1987197 0.2273014 0.1374087 0.3880624 0.0485078\n",
       "[4,] 0.1987197 0.2273014 0.1374087 0.3880624 0.0485078\n",
       "[5,] 0.1987197 0.2273014 0.1374087 0.3880624 0.0485078"
      ]
     },
     "metadata": {},
     "output_type": "display_data"
    }
   ],
   "source": [
    "A"
   ]
  },
  {
   "cell_type": "markdown",
   "metadata": {},
   "source": [
    "__Стаціонарний вектор станів__, відповідно, це вектор $p$ такий, що $p = p_0 A$"
   ]
  },
  {
   "cell_type": "code",
   "execution_count": 26,
   "metadata": {
    "collapsed": true
   },
   "outputs": [],
   "source": [
    "p = p0 %*% A"
   ]
  },
  {
   "cell_type": "code",
   "execution_count": 27,
   "metadata": {},
   "outputs": [
    {
     "data": {
      "text/html": [
       "<table>\n",
       "<tbody>\n",
       "\t<tr><td>0.1987197</td><td>0.2273014</td><td>0.1374087</td><td>0.3880624</td><td>0.0485078</td></tr>\n",
       "</tbody>\n",
       "</table>\n"
      ],
      "text/latex": [
       "\\begin{tabular}{lllll}\n",
       "\t 0.1987197 & 0.2273014 & 0.1374087 & 0.3880624 & 0.0485078\\\\\n",
       "\\end{tabular}\n"
      ],
      "text/markdown": [
       "\n",
       "| 0.1987197 | 0.2273014 | 0.1374087 | 0.3880624 | 0.0485078 | \n",
       "\n",
       "\n"
      ],
      "text/plain": [
       "     [,1]      [,2]      [,3]      [,4]      [,5]     \n",
       "[1,] 0.1987197 0.2273014 0.1374087 0.3880624 0.0485078"
      ]
     },
     "metadata": {},
     "output_type": "display_data"
    }
   ],
   "source": [
    "p"
   ]
  },
  {
   "cell_type": "markdown",
   "metadata": {},
   "source": [
    "__Фундаментальна матриця__ обчислюється за формулою $N = (I - (P - A))^{-1}$"
   ]
  },
  {
   "cell_type": "code",
   "execution_count": 40,
   "metadata": {
    "collapsed": true
   },
   "outputs": [],
   "source": [
    "N = solve(diag(5) - (P - A))"
   ]
  },
  {
   "cell_type": "code",
   "execution_count": 41,
   "metadata": {},
   "outputs": [
    {
     "data": {
      "text/html": [
       "<table>\n",
       "<tbody>\n",
       "\t<tr><td> 0.9193536758</td><td>-0.01793378  </td><td> 0.16091040  </td><td>-0.001507159 </td><td>-0.06082314  </td></tr>\n",
       "\t<tr><td> 0.0005907149</td><td> 0.84132147  </td><td> 0.03378030  </td><td> 0.164393121 </td><td>-0.04008561  </td></tr>\n",
       "\t<tr><td> 0.0943604381</td><td>-0.03145826  </td><td> 1.09680437  </td><td>-0.088063826 </td><td>-0.07164273  </td></tr>\n",
       "\t<tr><td>-0.0057207088</td><td> 0.13083549  </td><td>-0.13392325  </td><td> 0.950616185 </td><td> 0.05819227  </td></tr>\n",
       "\t<tr><td> 0.1060816535</td><td>-0.14055572  </td><td>-0.02031762  </td><td>-0.119620945 </td><td> 1.17441263  </td></tr>\n",
       "</tbody>\n",
       "</table>\n"
      ],
      "text/latex": [
       "\\begin{tabular}{lllll}\n",
       "\t  0.9193536758 & -0.01793378   &  0.16091040   & -0.001507159  & -0.06082314  \\\\\n",
       "\t  0.0005907149 &  0.84132147   &  0.03378030   &  0.164393121  & -0.04008561  \\\\\n",
       "\t  0.0943604381 & -0.03145826   &  1.09680437   & -0.088063826  & -0.07164273  \\\\\n",
       "\t -0.0057207088 &  0.13083549   & -0.13392325   &  0.950616185  &  0.05819227  \\\\\n",
       "\t  0.1060816535 & -0.14055572   & -0.02031762   & -0.119620945  &  1.17441263  \\\\\n",
       "\\end{tabular}\n"
      ],
      "text/markdown": [
       "\n",
       "|  0.9193536758 | -0.01793378   |  0.16091040   | -0.001507159  | -0.06082314   | \n",
       "|  0.0005907149 |  0.84132147   |  0.03378030   |  0.164393121  | -0.04008561   | \n",
       "|  0.0943604381 | -0.03145826   |  1.09680437   | -0.088063826  | -0.07164273   | \n",
       "| -0.0057207088 |  0.13083549   | -0.13392325   |  0.950616185  |  0.05819227   | \n",
       "|  0.1060816535 | -0.14055572   | -0.02031762   | -0.119620945  |  1.17441263   | \n",
       "\n",
       "\n"
      ],
      "text/plain": [
       "     [,1]          [,2]        [,3]        [,4]         [,5]       \n",
       "[1,]  0.9193536758 -0.01793378  0.16091040 -0.001507159 -0.06082314\n",
       "[2,]  0.0005907149  0.84132147  0.03378030  0.164393121 -0.04008561\n",
       "[3,]  0.0943604381 -0.03145826  1.09680437 -0.088063826 -0.07164273\n",
       "[4,] -0.0057207088  0.13083549 -0.13392325  0.950616185  0.05819227\n",
       "[5,]  0.1060816535 -0.14055572 -0.02031762 -0.119620945  1.17441263"
      ]
     },
     "metadata": {},
     "output_type": "display_data"
    }
   ],
   "source": [
    "N"
   ]
  },
  {
   "cell_type": "markdown",
   "metadata": {},
   "source": [
    "__Середній час перебування в стані__ "
   ]
  },
  {
   "cell_type": "code",
   "execution_count": 49,
   "metadata": {
    "collapsed": true
   },
   "outputs": [],
   "source": [
    "E = matrix(c(1, 1, 1, 1, 1, 1, 1, 1, 1, 1, 1, 1, 1, 1, 1, 1, 1, 1, 1, 1, 1, 1, 1, 1, 1), ncol=5, nrow=5, byrow=TRUE)"
   ]
  },
  {
   "cell_type": "code",
   "execution_count": 50,
   "metadata": {},
   "outputs": [],
   "source": [
    "Dm = matrix(c(0, 0, 0, 0, 0, 0, 0, 0, 0, 0, 0, 0, 0, 0, 0, 0, 0, 0, 0, 0, 0, 0, 0, 0, 0), ncol=5, nrow=5, byrow=TRUE)\n",
    "\n",
    "for (i in 1:5) {\n",
    "    Dm[i,i] = (1 / N[i,i])\n",
    "}"
   ]
  },
  {
   "cell_type": "code",
   "execution_count": 51,
   "metadata": {},
   "outputs": [],
   "source": [
    "Dz = matrix(c(0, 0, 0, 0, 0, 0, 0, 0, 0, 0, 0, 0, 0, 0, 0, 0, 0, 0, 0, 0, 0, 0, 0, 0, 0), ncol=5, nrow=5, byrow=TRUE)\n",
    "\n",
    "for (i in 1:5) {\n",
    "    Dz[i,i] = N[i, i]\n",
    "}"
   ]
  },
  {
   "cell_type": "code",
   "execution_count": 52,
   "metadata": {},
   "outputs": [],
   "source": [
    "M = (diag(5) - N + E %*% Dz) %*% Dm"
   ]
  },
  {
   "cell_type": "code",
   "execution_count": 53,
   "metadata": {},
   "outputs": [
    {
     "data": {
      "text/html": [
       "<table>\n",
       "<tbody>\n",
       "\t<tr><td>0.9803412</td><td>0.9888656</td><td>1.001533 </td><td>1.014143 </td><td>1.010486 </td></tr>\n",
       "</tbody>\n",
       "</table>\n"
      ],
      "text/latex": [
       "\\begin{tabular}{lllll}\n",
       "\t 0.9803412 & 0.9888656 & 1.001533  & 1.014143  & 1.010486 \\\\\n",
       "\\end{tabular}\n"
      ],
      "text/markdown": [
       "\n",
       "| 0.9803412 | 0.9888656 | 1.001533  | 1.014143  | 1.010486  | \n",
       "\n",
       "\n"
      ],
      "text/plain": [
       "     [,1]      [,2]      [,3]     [,4]     [,5]    \n",
       "[1,] 0.9803412 0.9888656 1.001533 1.014143 1.010486"
      ]
     },
     "metadata": {},
     "output_type": "display_data"
    }
   ],
   "source": [
    "p0 %*% M"
   ]
  },
  {
   "cell_type": "markdown",
   "metadata": {},
   "source": [
    "### Частина №5"
   ]
  },
  {
   "cell_type": "code",
   "execution_count": 31,
   "metadata": {
    "collapsed": true
   },
   "outputs": [],
   "source": [
    "amount = matrix(c(0, 0, 0, 0, 0), nrow=1, ncol=5)\n",
    "average_time = matrix(c(0, 0, 0, 0, 0), nrow=1, ncol=5)"
   ]
  },
  {
   "cell_type": "code",
   "execution_count": 32,
   "metadata": {
    "scrolled": true
   },
   "outputs": [
    {
     "data": {
      "image/png": "[encoded data removed]",
      "text/plain": [
       "plot without title"
      ]
     },
     "metadata": {},
     "output_type": "display_data"
    },
    {
     "data": {
      "image/png": "[encoded data removed]",
      "text/plain": [
       "plot without title"
      ]
     },
     "metadata": {},
     "output_type": "display_data"
    },
    {
     "data": {
      "image/png": "[encoded data removed]",
      "text/plain": [
       "plot without title"
      ]
     },
     "metadata": {},
     "output_type": "display_data"
    },
    {
     "data": {
      "image/png": "[encoded data removed]",
      "text/plain": [
       "plot without title"
      ]
     },
     "metadata": {},
     "output_type": "display_data"
    },
    {
     "data": {
      "image/png": "[encoded data removed]",
      "text/plain": [
       "plot without title"
      ]
     },
     "metadata": {},
     "output_type": "display_data"
    },
    {
     "data": {
      "image/png": "[encoded data removed]",
      "text/plain": [
       "plot without title"
      ]
     },
     "metadata": {},
     "output_type": "display_data"
    },
    {
     "data": {
      "image/png": "[encoded data removed]",
      "text/plain": [
       "plot without title"
      ]
     },
     "metadata": {},
     "output_type": "display_data"
    },
    {
     "data": {
      "image/png": "[encoded data removed]",
      "text/plain": [
       "plot without title"
      ]
     },
     "metadata": {},
     "output_type": "display_data"
    },
    {
     "data": {
      "image/png": "[encoded data removed]",
      "text/plain": [
       "plot without title"
      ]
     },
     "metadata": {},
     "output_type": "display_data"
    },
    {
     "data": {
      "image/png": "[encoded data removed]",
      "text/plain": [
       "plot without title"
      ]
     },
     "metadata": {},
     "output_type": "display_data"
    },
    {
     "data": {
      "image/png": "[encoded data removed]",
      "text/plain": [
       "plot without title"
      ]
     },
     "metadata": {},
     "output_type": "display_data"
    },
    {
     "data": {
      "image/png": "[encoded data removed]",
      "text/plain": [
       "plot without title"
      ]
     },
     "metadata": {},
     "output_type": "display_data"
    }
   ],
   "source": [
    "par(mfrow=c(3,3))\n",
    "amount_of_realization = 108\n",
    "amount_of_steps = 20\n",
    "\n",
    "for (i in 1:amount_of_realization) {\n",
    "    p = p0\n",
    "    seq = c()\n",
    "    \n",
    "    first = matrix(c(TRUE, TRUE, TRUE, TRUE, TRUE), nrow=1, ncol=5)\n",
    "    \n",
    "    for (j in 1:amount_of_steps) {\n",
    "        state = get_state(p)\n",
    "        seq = append(seq, state)\n",
    "        p = p %*% P\n",
    "        amount[state] = amount[state] + 1 / (amount_of_realization * amount_of_steps)\n",
    "        \n",
    "        if (first[state] == TRUE) {\n",
    "            average_time[state] = average_time[state] + j / amount_of_realization\n",
    "            first[state] = FALSE\n",
    "        }\n",
    "        \n",
    "    }\n",
    "\n",
    "    plot(seq, type=\"s\", xlab=\"Step\", ylab=\"State\", xaxt='n', yaxt='n', ann=FALSE)\n",
    "    axis(1, at = seq(1, 20, by = 1), las=1)\n",
    "    axis(2, at=c(1, 2, 3, 4, 5), labels=c(1, 2, 3, 4, 5), cex.axis=1)\n",
    "}"
   ]
  },
  {
   "cell_type": "markdown",
   "metadata": {},
   "source": [
    "__Середній час перебування в заданому стані__"
   ]
  },
  {
   "cell_type": "code",
   "execution_count": 33,
   "metadata": {},
   "outputs": [
    {
     "data": {
      "text/html": [
       "<table>\n",
       "<tbody>\n",
       "\t<tr><td>0.1944444 </td><td>0.2166667 </td><td>0.1518519 </td><td>0.3921296 </td><td>0.04490741</td></tr>\n",
       "</tbody>\n",
       "</table>\n"
      ],
      "text/latex": [
       "\\begin{tabular}{lllll}\n",
       "\t 0.1944444  & 0.2166667  & 0.1518519  & 0.3921296  & 0.04490741\\\\\n",
       "\\end{tabular}\n"
      ],
      "text/markdown": [
       "\n",
       "| 0.1944444  | 0.2166667  | 0.1518519  | 0.3921296  | 0.04490741 | \n",
       "\n",
       "\n"
      ],
      "text/plain": [
       "     [,1]      [,2]      [,3]      [,4]      [,5]      \n",
       "[1,] 0.1944444 0.2166667 0.1518519 0.3921296 0.04490741"
      ]
     },
     "metadata": {},
     "output_type": "display_data"
    }
   ],
   "source": [
    "amount"
   ]
  },
  {
   "cell_type": "markdown",
   "metadata": {},
   "source": [
    "__Середній час 1-го входу в заданий стан__"
   ]
  },
  {
   "cell_type": "code",
   "execution_count": 152,
   "metadata": {},
   "outputs": [
    {
     "data": {
      "text/html": [
       "<table>\n",
       "<tbody>\n",
       "\t<tr><td>5.240741</td><td>4.240741</td><td>4.333333</td><td>2.777778</td><td>6.472222</td></tr>\n",
       "</tbody>\n",
       "</table>\n"
      ],
      "text/latex": [
       "\\begin{tabular}{lllll}\n",
       "\t 5.240741 & 4.240741 & 4.333333 & 2.777778 & 6.472222\\\\\n",
       "\\end{tabular}\n"
      ],
      "text/markdown": [
       "\n",
       "| 5.240741 | 4.240741 | 4.333333 | 2.777778 | 6.472222 | \n",
       "\n",
       "\n"
      ],
      "text/plain": [
       "     [,1]     [,2]     [,3]     [,4]     [,5]    \n",
       "[1,] 5.240741 4.240741 4.333333 2.777778 6.472222"
      ]
     },
     "metadata": {},
     "output_type": "display_data"
    }
   ],
   "source": [
    "average_time"
   ]
  }
 ],
 "metadata": {
  "kernelspec": {
   "display_name": "R",
   "language": "R",
   "name": "ir"
  },
  "language_info": {
   "codemirror_mode": "r",
   "file_extension": ".r",
   "mimetype": "text/x-r-source",
   "name": "R",
   "pygments_lexer": "r",
   "version": "3.4.2"
  }
 },
 "nbformat": 4,
 "nbformat_minor": 2
}
