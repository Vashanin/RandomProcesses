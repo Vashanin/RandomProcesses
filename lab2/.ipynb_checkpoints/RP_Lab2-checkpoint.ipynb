{
 "cells": [
  {
   "cell_type": "markdown",
   "metadata": {},
   "source": [
    "# Лабораторна робота №2"
   ]
  },
  {
   "cell_type": "markdown",
   "metadata": {},
   "source": [
    "### Частина №1"
   ]
  },
  {
   "cell_type": "markdown",
   "metadata": {},
   "source": [
    "Генеруємо 100000 нормально розподілених випадкових величин."
   ]
  },
  {
   "cell_type": "code",
   "execution_count": 1,
   "metadata": {
    "collapsed": true
   },
   "outputs": [],
   "source": [
    "X <- rnorm(100000, mean = 3, sd = 2)"
   ]
  },
  {
   "cell_type": "code",
   "execution_count": 2,
   "metadata": {},
   "outputs": [
    {
     "data": {
      "image/png": "[encoded data removed]",
      "text/plain": [
       "Plot with title “rnorm”"
      ]
     },
     "metadata": {},
     "output_type": "display_data"
    }
   ],
   "source": [
    "hist(X, main=\"rnorm\")"
   ]
  },
  {
   "cell_type": "markdown",
   "metadata": {},
   "source": [
    "Реалізація критерію хі-квадрат Пірсона перевірки розподілу на нормальність розподілу."
   ]
  },
  {
   "cell_type": "code",
   "execution_count": 3,
   "metadata": {
    "collapsed": true
   },
   "outputs": [],
   "source": [
    "chi_square_normal_test <- function(dataset) {    \n",
    "    mean <- mean(dataset)\n",
    "    sd <- sd(dataset)\n",
    "    \n",
    "    norm_dataset <- (dataset - mean) / sd\n",
    "    \n",
    "    size_of_dataset = length(dataset)\n",
    "    \n",
    "    f = function(z) {(1 / sqrt(2 * pi)) * exp(-(z ^ 2) / 2)}\n",
    "    laplas_funct = function(lower, upper) {integrate(f, lower, upper)$val}\n",
    "    \n",
    "    sturgess_formula = 1 + 3.322 * log10(size_of_dataset)\n",
    "    amount_of_intervals = round(sturgess_formula) + 1\n",
    "    \n",
    "    max <- max(dataset)\n",
    "    min <- min(dataset)\n",
    "    \n",
    "    step <- (max - min) / amount_of_intervals\n",
    "    \n",
    "    actual_frequency <- list()\n",
    "    theoretical_frequency <- list()\n",
    "    Chi_Square_actual <- 0\n",
    "    \n",
    "    for (i in 0:(amount_of_intervals - 1)) {\n",
    "        lower_bound <- min + i * step  \n",
    "        upper_bound <- min + (i + 1) * step\n",
    "        \n",
    "        actual <- 0  \n",
    "        if (i == amount_of_intervals - 1)\n",
    "            actual <- length(dataset[dataset >= lower_bound & dataset <= upper_bound])\n",
    "        else\n",
    "            actual <- length(dataset[dataset >= lower_bound & dataset < upper_bound])\n",
    "        \n",
    "        actual_frequency <- append(actual_frequency, actual)\n",
    "        \n",
    "        theoretical = size_of_dataset * laplas_funct((lower_bound - mean) / sd, (upper_bound - mean) / sd)\n",
    "        \n",
    "        theoretical_frequency <- append(theoretical_frequency, theoretical)\n",
    "        \n",
    "        Chi_Square_actual <- Chi_Square_actual + (((actual - theoretical) ^ 2) / theoretical)\n",
    "    }\n",
    "    \n",
    "    Chi_Square_critical <- qchisq(p = 0.95, df = amount_of_intervals - 3)\n",
    "    \n",
    "    print(paste(\"Actual: \", Chi_Square_actual))\n",
    "    print(paste(\"Critical: \", Chi_Square_critical))\n",
    "    \n",
    "    return(Chi_Square_actual < Chi_Square_critical)\n",
    "}"
   ]
  },
  {
   "cell_type": "markdown",
   "metadata": {},
   "source": [
    "### Частина №2"
   ]
  },
  {
   "cell_type": "markdown",
   "metadata": {},
   "source": [
    "Функція __e1__ генерує випадкові величини згідно формули\n",
    "\n",
    "$\\epsilon_1 = \\sqrt{-2\\ln(\\alpha_i)} \\times sin(2\\pi\\alpha_2)$\n",
    "\n",
    "Функція __e2__ генерує випадкові величини згідно формули\n",
    "\n",
    "$\\epsilon_2 = \\sqrt{-2\\ln(\\alpha_i)} \\times cos(2\\pi\\alpha_2)$"
   ]
  },
  {
   "cell_type": "code",
   "execution_count": 4,
   "metadata": {
    "collapsed": true
   },
   "outputs": [],
   "source": [
    "e1 = function(amount) {\n",
    "    alpha_1 = runif(amount)\n",
    "    alpha_2 = runif(amount)\n",
    "    \n",
    "    epsilon = sqrt(-2 * log(alpha_1)) * sin(2 * pi * alpha_2)\n",
    "    return(epsilon)\n",
    "}\n",
    "e2 = function(amount) {\n",
    "    alpha_1 = runif(amount)\n",
    "    alpha_2 = runif(amount)\n",
    "    \n",
    "    epsilon = sqrt(-2 * log(alpha_1)) * cos(2 * pi * alpha_2)\n",
    "    return(epsilon)\n",
    "}"
   ]
  },
  {
   "cell_type": "markdown",
   "metadata": {},
   "source": [
    "Функція __e__ генерує випадкові величини згідно формули\n",
    "\n",
    "$\\epsilon(t) = \\sqrt{\\frac{12}{n}} \\sum_{i=1}^{n} (\\alpha_j - 0.5)$, де $n = 3, 6, 12$"
   ]
  },
  {
   "cell_type": "code",
   "execution_count": 5,
   "metadata": {
    "collapsed": true
   },
   "outputs": [],
   "source": [
    "e = function(amount, n) {\n",
    "    result = runif(amount) - 0.5\n",
    "    \n",
    "    for (i in 2:n) {\n",
    "        result = result + (runif(amount) - 0.5)\n",
    "    }\n",
    "    result = sqrt(12/n) * result\n",
    "}"
   ]
  },
  {
   "cell_type": "code",
   "execution_count": 6,
   "metadata": {
    "collapsed": true
   },
   "outputs": [],
   "source": [
    "check_is_normal = function(dataset, name) {\n",
    "    print(paste(\"------\", name, \"------\"))\n",
    "    if (chi_square_normal_test(dataset)) {\n",
    "        print(\"Dataset is normally distributed\")\n",
    "    } else {\n",
    "        print(\"Dataset is NOT normally distributed\")\n",
    "    }\n",
    "}"
   ]
  },
  {
   "cell_type": "code",
   "execution_count": 7,
   "metadata": {
    "scrolled": true
   },
   "outputs": [
    {
     "name": "stdout",
     "output_type": "stream",
     "text": [
      "[1] \"------ rnorm ------\"\n",
      "[1] \"Actual:  11.4590935422943\"\n",
      "[1] \"Critical:  26.2962276048642\"\n",
      "[1] \"Dataset is normally distributed\"\n",
      "[1] \"------ e1 ------\"\n",
      "[1] \"Actual:  12.2344450999857\"\n",
      "[1] \"Critical:  21.0260698174831\"\n",
      "[1] \"Dataset is normally distributed\"\n",
      "[1] \"------ e2 ------\"\n",
      "[1] \"Actual:  11.0738691279808\"\n",
      "[1] \"Critical:  21.0260698174831\"\n",
      "[1] \"Dataset is normally distributed\"\n",
      "[1] \"------ e (n = 3) ------\"\n",
      "[1] \"Actual:  44.7728689288941\"\n",
      "[1] \"Critical:  21.0260698174831\"\n",
      "[1] \"Dataset is NOT normally distributed\"\n",
      "[1] \"------ e (n = 6) ------\"\n",
      "[1] \"Actual:  32.6722252193455\"\n",
      "[1] \"Critical:  21.0260698174831\"\n",
      "[1] \"Dataset is NOT normally distributed\"\n",
      "[1] \"------ e (n = 12) ------\"\n",
      "[1] \"Actual:  12.0880322526665\"\n",
      "[1] \"Critical:  21.0260698174831\"\n",
      "[1] \"Dataset is normally distributed\"\n"
     ]
    }
   ],
   "source": [
    "check_is_normal(X, \"rnorm\")\n",
    "\n",
    "e_1 = e1(10000)\n",
    "e_2 = e2(10000)\n",
    "e__3 = e(10000, 3)\n",
    "e__6 = e(10000, 6)\n",
    "e__12 = e(10000, 12)\n",
    "\n",
    "check_is_normal(e_1, \"e1\")\n",
    "check_is_normal(e_2, \"e2\")\n",
    "\n",
    "check_is_normal(e__3, paste(\"e (n = 3)\"))\n",
    "check_is_normal(e__6, paste(\"e (n = 6)\"))\n",
    "check_is_normal(e__12, paste(\"e (n = 12)\"))"
   ]
  },
  {
   "cell_type": "markdown",
   "metadata": {},
   "source": [
    "Гістограма випадкових величин, згенерованих функціями __е1__ та __е2__."
   ]
  },
  {
   "cell_type": "code",
   "execution_count": 10,
   "metadata": {},
   "outputs": [
    {
     "data": {
      "image/png": "[encoded data removed]",
      "text/plain": [
       "Plot with title “e2”"
      ]
     },
     "metadata": {},
     "output_type": "display_data"
    }
   ],
   "source": [
    "par(mfrow=c(1, 2))\n",
    "\n",
    "hist(e_1, main=\"e1\")\n",
    "hist(e_2, main=\"e2\")"
   ]
  },
  {
   "cell_type": "markdown",
   "metadata": {},
   "source": [
    "Гістограма випадкових величин, згенерованих функцією __е__ за різних значень __n__."
   ]
  },
  {
   "cell_type": "code",
   "execution_count": 9,
   "metadata": {},
   "outputs": [
    {
     "data": {
      "image/png": "[encoded data removed]",
      "text/plain": [
       "Plot with title “e (n=12)”"
      ]
     },
     "metadata": {},
     "output_type": "display_data"
    }
   ],
   "source": [
    "par(mfrow=c(1,3))\n",
    "\n",
    "hist(e__3, main=\"e (n=3)\")\n",
    "hist(e__6, main=\"e (n=6)\")\n",
    "hist(e__12, main=\"e (n=12)\")"
   ]
  },
  {
   "cell_type": "markdown",
   "metadata": {
    "collapsed": true
   },
   "source": [
    "### Частина №3"
   ]
  },
  {
   "cell_type": "markdown",
   "metadata": {},
   "source": [
    "Функції __run_a__ та __run_b__ на основі генератора __runif__ рівномірно розподілених випадкових величин, генерують нормально розподілені випадкові величини згідно наступних формул.\n",
    "\n",
    "Причому, $N = 1000 \\times 21$.\n",
    "\n",
    "А $\\mu_i^1$ та $\\mu_i^2$ - нормально розподілена випадкова величина з параметрами: $M\\eta_i^1 = M\\eta_i^2 = 0$, $D\\eta_i^1 = D\\eta_i^2 = \\sigma_i^2 = \\frac{1}{1+\\pi i^2}$."
   ]
  },
  {
   "cell_type": "markdown",
   "metadata": {},
   "source": [
    "$\\epsilon(t) = \\sum_{i=1}^{N} (\\cos(\\lambda_i t)\\eta_i^1 + \\sin(\\lambda_i t)\\eta_i^2)$, де $\\lambda_i = i\\pi$"
   ]
  },
  {
   "cell_type": "code",
   "execution_count": 11,
   "metadata": {
    "collapsed": true
   },
   "outputs": [],
   "source": [
    "run_a <- function(t) {\n",
    "    N <- 1000 * 21\n",
    "    \n",
    "    sigma = function(i) {sqrt(1 / (1 + pi * i * i))}\n",
    "    lambda = function(i) {i * pi}\n",
    "    \n",
    "    result <- c()\n",
    "    for (k in 1:t) {\n",
    "        part_of_result <- 0\n",
    "        for (i in 1:N) {\n",
    "            nu <- rnorm(2, mean = 0, sd = sigma(i))\n",
    "            part_of_result <- part_of_result + cos(lambda(i) * t) * nu[[1]] + sin(lambda(i) * t) * nu[[2]]\n",
    "        }\n",
    "        result <- append(result, part_of_result)\n",
    "    }\n",
    "    \n",
    "    return(result)\n",
    "}"
   ]
  },
  {
   "cell_type": "markdown",
   "metadata": {},
   "source": [
    "$\\epsilon(t) = \\sum_{i=1}^{N} (\\cos(\\lambda_i t)\\eta_i^1 + \\sin(\\lambda_i t)\\eta_i^2)$, де $\\lambda_i \\in [i\\pi,(i+1)\\pi]$ - рівномірно розподілена випадкова величина."
   ]
  },
  {
   "cell_type": "code",
   "execution_count": 12,
   "metadata": {
    "collapsed": true
   },
   "outputs": [],
   "source": [
    "run_b <- function(t) {\n",
    "    N <- 1000 * 21\n",
    "    \n",
    "    lambda <- runif(t, pi * i, pi * (i + 1))\n",
    "    sigma <- function(i) {sqrt(1 / (1 + pi * i * i))}\n",
    "    \n",
    "    result <- c()\n",
    "    for (k in 1:t) {\n",
    "        part_of_result <- 0\n",
    "        for (i in 1:N) {\n",
    "            nu <- rnorm(2, mean = 0, sd = sigma(i))\n",
    "            part_of_result <- part_of_result + cos(lambda[[i]] * t) * nu[[1]] + sin(lambda[[i]] * t) * nu[[2]]\n",
    "        }\n",
    "        result <- append(result, part_of_result) \n",
    "    }\n",
    "    \n",
    "    return(result)\n",
    "}"
   ]
  },
  {
   "cell_type": "markdown",
   "metadata": {},
   "source": [
    "Побудова гістограм реалізацій випадкових величин та графіку середнього значення."
   ]
  },
  {
   "cell_type": "code",
   "execution_count": null,
   "metadata": {
    "collapsed": true
   },
   "outputs": [],
   "source": [
    "a_means <- c()\n",
    "\n",
    "par(mfrow=c(5, 2))\n",
    "\n",
    "for (i in 1:10) {\n",
    "    a_dataset <- run_a(1000)\n",
    "    hist(a_dataset, main=NULL)\n",
    "    \n",
    "    a_means <- append(a_means, mean(a_dataset))\n",
    "}"
   ]
  },
  {
   "cell_type": "code",
   "execution_count": null,
   "metadata": {
    "collapsed": true
   },
   "outputs": [],
   "source": [
    "b_means <- c()\n",
    "\n",
    "par(mfrow=c(5, 2))\n",
    "\n",
    "for (i in 1:10) {\n",
    "    b_dataset <- run_b(1000)\n",
    "    hist(b_dataset, main=NULL)\n",
    "    \n",
    "    b_means <- append(a_means, mean(a_dataset))\n",
    "}"
   ]
  },
  {
   "cell_type": "code",
   "execution_count": null,
   "metadata": {
    "collapsed": true
   },
   "outputs": [],
   "source": [
    "par(mfrow=c(2, 1))\n",
    "plot(a_means)\n",
    "plot(b_means)"
   ]
  }
 ],
 "metadata": {
  "kernelspec": {
   "display_name": "R",
   "language": "R",
   "name": "ir"
  },
  "language_info": {
   "codemirror_mode": "r",
   "file_extension": ".r",
   "mimetype": "text/x-r-source",
   "name": "R",
   "pygments_lexer": "r",
   "version": "3.4.2"
  }
 },
 "nbformat": 4,
 "nbformat_minor": 2
}
